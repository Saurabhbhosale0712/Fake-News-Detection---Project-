{
  "nbformat": 4,
  "nbformat_minor": 0,
  "metadata": {
    "colab": {
      "provenance": []
    },
    "kernelspec": {
      "name": "python3",
      "display_name": "Python 3"
    },
    "language_info": {
      "name": "python"
    }
  },
  "cells": [
    {
      "cell_type": "code",
      "source": [],
      "metadata": {
        "id": "mbLf6D6_Qafj"
      },
      "execution_count": null,
      "outputs": []
    },
    {
      "cell_type": "markdown",
      "source": [
        "# 📊Fake News Detection,\n",
        "\n",
        "Dataset Link : \" https://www.kaggle.com/datasets/vishakhdapat/fake-news-detection \"\n"
      ],
      "metadata": {
        "id": "eEWg3wq8f366"
      }
    },
    {
      "cell_type": "code",
      "source": [],
      "metadata": {
        "id": "va09LT6Wf9WH"
      },
      "execution_count": null,
      "outputs": []
    },
    {
      "cell_type": "markdown",
      "source": [
        "### Step 1: Import Libraries and Load Dataset\n",
        "\n",
        "* pandas is a powerful Python library for data analysis and manipulation.\n",
        "\n",
        "* read_csv() loads the CSV file into a DataFrame.\n",
        "\n",
        "* head() displays the first 5 rows of the dataset."
      ],
      "metadata": {
        "id": "MNYVpvAlQa7Q"
      }
    },
    {
      "cell_type": "code",
      "source": [
        "import pandas as pd\n",
        "\n",
        "# Read the CSV file, specifying error handling for bad lines\n",
        "data = pd.read_csv(\"/content/fake_and_real_news.csv\")\n",
        "\n",
        "# Print some info to check the data\n",
        "data.info()\n"
      ],
      "metadata": {
        "colab": {
          "base_uri": "https://localhost:8080/"
        },
        "id": "MDZPwWi9O_G5",
        "outputId": "7026717e-ad30-4b2d-865e-3310e12c1ea5"
      },
      "execution_count": 3,
      "outputs": [
        {
          "output_type": "stream",
          "name": "stdout",
          "text": [
            "<class 'pandas.core.frame.DataFrame'>\n",
            "RangeIndex: 9900 entries, 0 to 9899\n",
            "Data columns (total 2 columns):\n",
            " #   Column  Non-Null Count  Dtype \n",
            "---  ------  --------------  ----- \n",
            " 0   Text    9900 non-null   object\n",
            " 1   label   9900 non-null   object\n",
            "dtypes: object(2)\n",
            "memory usage: 154.8+ KB\n"
          ]
        }
      ]
    },
    {
      "cell_type": "code",
      "source": [
        "df = data"
      ],
      "metadata": {
        "id": "ElMJ27WxOqAF"
      },
      "execution_count": 9,
      "outputs": []
    },
    {
      "cell_type": "markdown",
      "source": [
        "#### ❓Why it's needed:\n",
        "Before doing anything with the data, we need to load and inspect it. This helps us:\n",
        "\n",
        "* Understand the structure of the dataset\n",
        "\n",
        "* Identify which columns are important\n",
        "\n",
        "* Plan the next steps in cleaning and processing"
      ],
      "metadata": {
        "id": "QvfzwkJdQrkZ"
      }
    },
    {
      "cell_type": "code",
      "source": [],
      "metadata": {
        "id": "Yk7KGcVtO5At"
      },
      "execution_count": 9,
      "outputs": []
    },
    {
      "cell_type": "markdown",
      "source": [
        "### Step 2: Data Cleaning and Preprocessing"
      ],
      "metadata": {
        "id": "uRklwAHrQ9JY"
      }
    },
    {
      "cell_type": "code",
      "source": [
        "import re\n",
        "import nltk\n",
        "from nltk.corpus import stopwords\n",
        "from nltk.stem import WordNetLemmatizer\n",
        "\n",
        "nltk.download('stopwords')\n",
        "nltk.download('wordnet')\n",
        "\n",
        "stop_words = set(stopwords.words('english'))\n",
        "lemmatizer = WordNetLemmatizer()\n",
        "\n",
        "def preprocess(text):\n",
        "    text = text.lower()                              # Convert to lowercase\n",
        "    text = re.sub(r'\\d+', '', text)                  # Remove numbers\n",
        "    text = re.sub(r'[^\\w\\s]', '', text)              # Remove punctuation\n",
        "    text = text.split()                              # Tokenization\n",
        "    text = [word for word in text if word not in stop_words]  # Remove stopwords\n",
        "    text = [lemmatizer.lemmatize(word) for word in text]      # Lemmatization\n",
        "    return ' '.join(text)\n",
        "\n",
        "df['clean_text'] = df['Text'].apply(preprocess)\n",
        "df[['Text', 'clean_text']].head()\n"
      ],
      "metadata": {
        "colab": {
          "base_uri": "https://localhost:8080/",
          "height": 276
        },
        "id": "m3yAEI6kQWUC",
        "outputId": "6f5c917e-7e82-4fae-ac68-ead74d89ada6"
      },
      "execution_count": 10,
      "outputs": [
        {
          "output_type": "stream",
          "name": "stderr",
          "text": [
            "[nltk_data] Downloading package stopwords to /root/nltk_data...\n",
            "[nltk_data]   Package stopwords is already up-to-date!\n",
            "[nltk_data] Downloading package wordnet to /root/nltk_data...\n",
            "[nltk_data]   Package wordnet is already up-to-date!\n"
          ]
        },
        {
          "output_type": "execute_result",
          "data": {
            "text/plain": [
              "                                                Text  \\\n",
              "0   Top Trump Surrogate BRUTALLY Stabs Him In The...   \n",
              "1  U.S. conservative leader optimistic of common ...   \n",
              "2  Trump proposes U.S. tax overhaul, stirs concer...   \n",
              "3   Court Forces Ohio To Allow Millions Of Illega...   \n",
              "4  Democrats say Trump agrees to work on immigrat...   \n",
              "\n",
              "                                          clean_text  \n",
              "0  top trump surrogate brutally stab back he path...  \n",
              "1  u conservative leader optimistic common ground...  \n",
              "2  trump proposes u tax overhaul stir concern def...  \n",
              "3  court force ohio allow million illegally purge...  \n",
              "4  democrat say trump agrees work immigration bil...  "
            ],
            "text/html": [
              "\n",
              "  <div id=\"df-1d331498-8c9e-41b6-b552-e5ba9bc0dc86\" class=\"colab-df-container\">\n",
              "    <div>\n",
              "<style scoped>\n",
              "    .dataframe tbody tr th:only-of-type {\n",
              "        vertical-align: middle;\n",
              "    }\n",
              "\n",
              "    .dataframe tbody tr th {\n",
              "        vertical-align: top;\n",
              "    }\n",
              "\n",
              "    .dataframe thead th {\n",
              "        text-align: right;\n",
              "    }\n",
              "</style>\n",
              "<table border=\"1\" class=\"dataframe\">\n",
              "  <thead>\n",
              "    <tr style=\"text-align: right;\">\n",
              "      <th></th>\n",
              "      <th>Text</th>\n",
              "      <th>clean_text</th>\n",
              "    </tr>\n",
              "  </thead>\n",
              "  <tbody>\n",
              "    <tr>\n",
              "      <th>0</th>\n",
              "      <td>Top Trump Surrogate BRUTALLY Stabs Him In The...</td>\n",
              "      <td>top trump surrogate brutally stab back he path...</td>\n",
              "    </tr>\n",
              "    <tr>\n",
              "      <th>1</th>\n",
              "      <td>U.S. conservative leader optimistic of common ...</td>\n",
              "      <td>u conservative leader optimistic common ground...</td>\n",
              "    </tr>\n",
              "    <tr>\n",
              "      <th>2</th>\n",
              "      <td>Trump proposes U.S. tax overhaul, stirs concer...</td>\n",
              "      <td>trump proposes u tax overhaul stir concern def...</td>\n",
              "    </tr>\n",
              "    <tr>\n",
              "      <th>3</th>\n",
              "      <td>Court Forces Ohio To Allow Millions Of Illega...</td>\n",
              "      <td>court force ohio allow million illegally purge...</td>\n",
              "    </tr>\n",
              "    <tr>\n",
              "      <th>4</th>\n",
              "      <td>Democrats say Trump agrees to work on immigrat...</td>\n",
              "      <td>democrat say trump agrees work immigration bil...</td>\n",
              "    </tr>\n",
              "  </tbody>\n",
              "</table>\n",
              "</div>\n",
              "    <div class=\"colab-df-buttons\">\n",
              "\n",
              "  <div class=\"colab-df-container\">\n",
              "    <button class=\"colab-df-convert\" onclick=\"convertToInteractive('df-1d331498-8c9e-41b6-b552-e5ba9bc0dc86')\"\n",
              "            title=\"Convert this dataframe to an interactive table.\"\n",
              "            style=\"display:none;\">\n",
              "\n",
              "  <svg xmlns=\"http://www.w3.org/2000/svg\" height=\"24px\" viewBox=\"0 -960 960 960\">\n",
              "    <path d=\"M120-120v-720h720v720H120Zm60-500h600v-160H180v160Zm220 220h160v-160H400v160Zm0 220h160v-160H400v160ZM180-400h160v-160H180v160Zm440 0h160v-160H620v160ZM180-180h160v-160H180v160Zm440 0h160v-160H620v160Z\"/>\n",
              "  </svg>\n",
              "    </button>\n",
              "\n",
              "  <style>\n",
              "    .colab-df-container {\n",
              "      display:flex;\n",
              "      gap: 12px;\n",
              "    }\n",
              "\n",
              "    .colab-df-convert {\n",
              "      background-color: #E8F0FE;\n",
              "      border: none;\n",
              "      border-radius: 50%;\n",
              "      cursor: pointer;\n",
              "      display: none;\n",
              "      fill: #1967D2;\n",
              "      height: 32px;\n",
              "      padding: 0 0 0 0;\n",
              "      width: 32px;\n",
              "    }\n",
              "\n",
              "    .colab-df-convert:hover {\n",
              "      background-color: #E2EBFA;\n",
              "      box-shadow: 0px 1px 2px rgba(60, 64, 67, 0.3), 0px 1px 3px 1px rgba(60, 64, 67, 0.15);\n",
              "      fill: #174EA6;\n",
              "    }\n",
              "\n",
              "    .colab-df-buttons div {\n",
              "      margin-bottom: 4px;\n",
              "    }\n",
              "\n",
              "    [theme=dark] .colab-df-convert {\n",
              "      background-color: #3B4455;\n",
              "      fill: #D2E3FC;\n",
              "    }\n",
              "\n",
              "    [theme=dark] .colab-df-convert:hover {\n",
              "      background-color: #434B5C;\n",
              "      box-shadow: 0px 1px 3px 1px rgba(0, 0, 0, 0.15);\n",
              "      filter: drop-shadow(0px 1px 2px rgba(0, 0, 0, 0.3));\n",
              "      fill: #FFFFFF;\n",
              "    }\n",
              "  </style>\n",
              "\n",
              "    <script>\n",
              "      const buttonEl =\n",
              "        document.querySelector('#df-1d331498-8c9e-41b6-b552-e5ba9bc0dc86 button.colab-df-convert');\n",
              "      buttonEl.style.display =\n",
              "        google.colab.kernel.accessAllowed ? 'block' : 'none';\n",
              "\n",
              "      async function convertToInteractive(key) {\n",
              "        const element = document.querySelector('#df-1d331498-8c9e-41b6-b552-e5ba9bc0dc86');\n",
              "        const dataTable =\n",
              "          await google.colab.kernel.invokeFunction('convertToInteractive',\n",
              "                                                    [key], {});\n",
              "        if (!dataTable) return;\n",
              "\n",
              "        const docLinkHtml = 'Like what you see? Visit the ' +\n",
              "          '<a target=\"_blank\" href=https://colab.research.google.com/notebooks/data_table.ipynb>data table notebook</a>'\n",
              "          + ' to learn more about interactive tables.';\n",
              "        element.innerHTML = '';\n",
              "        dataTable['output_type'] = 'display_data';\n",
              "        await google.colab.output.renderOutput(dataTable, element);\n",
              "        const docLink = document.createElement('div');\n",
              "        docLink.innerHTML = docLinkHtml;\n",
              "        element.appendChild(docLink);\n",
              "      }\n",
              "    </script>\n",
              "  </div>\n",
              "\n",
              "\n",
              "<div id=\"df-cdab4ed0-4018-421f-9e58-ae40ddf50285\">\n",
              "  <button class=\"colab-df-quickchart\" onclick=\"quickchart('df-cdab4ed0-4018-421f-9e58-ae40ddf50285')\"\n",
              "            title=\"Suggest charts\"\n",
              "            style=\"display:none;\">\n",
              "\n",
              "<svg xmlns=\"http://www.w3.org/2000/svg\" height=\"24px\"viewBox=\"0 0 24 24\"\n",
              "     width=\"24px\">\n",
              "    <g>\n",
              "        <path d=\"M19 3H5c-1.1 0-2 .9-2 2v14c0 1.1.9 2 2 2h14c1.1 0 2-.9 2-2V5c0-1.1-.9-2-2-2zM9 17H7v-7h2v7zm4 0h-2V7h2v10zm4 0h-2v-4h2v4z\"/>\n",
              "    </g>\n",
              "</svg>\n",
              "  </button>\n",
              "\n",
              "<style>\n",
              "  .colab-df-quickchart {\n",
              "      --bg-color: #E8F0FE;\n",
              "      --fill-color: #1967D2;\n",
              "      --hover-bg-color: #E2EBFA;\n",
              "      --hover-fill-color: #174EA6;\n",
              "      --disabled-fill-color: #AAA;\n",
              "      --disabled-bg-color: #DDD;\n",
              "  }\n",
              "\n",
              "  [theme=dark] .colab-df-quickchart {\n",
              "      --bg-color: #3B4455;\n",
              "      --fill-color: #D2E3FC;\n",
              "      --hover-bg-color: #434B5C;\n",
              "      --hover-fill-color: #FFFFFF;\n",
              "      --disabled-bg-color: #3B4455;\n",
              "      --disabled-fill-color: #666;\n",
              "  }\n",
              "\n",
              "  .colab-df-quickchart {\n",
              "    background-color: var(--bg-color);\n",
              "    border: none;\n",
              "    border-radius: 50%;\n",
              "    cursor: pointer;\n",
              "    display: none;\n",
              "    fill: var(--fill-color);\n",
              "    height: 32px;\n",
              "    padding: 0;\n",
              "    width: 32px;\n",
              "  }\n",
              "\n",
              "  .colab-df-quickchart:hover {\n",
              "    background-color: var(--hover-bg-color);\n",
              "    box-shadow: 0 1px 2px rgba(60, 64, 67, 0.3), 0 1px 3px 1px rgba(60, 64, 67, 0.15);\n",
              "    fill: var(--button-hover-fill-color);\n",
              "  }\n",
              "\n",
              "  .colab-df-quickchart-complete:disabled,\n",
              "  .colab-df-quickchart-complete:disabled:hover {\n",
              "    background-color: var(--disabled-bg-color);\n",
              "    fill: var(--disabled-fill-color);\n",
              "    box-shadow: none;\n",
              "  }\n",
              "\n",
              "  .colab-df-spinner {\n",
              "    border: 2px solid var(--fill-color);\n",
              "    border-color: transparent;\n",
              "    border-bottom-color: var(--fill-color);\n",
              "    animation:\n",
              "      spin 1s steps(1) infinite;\n",
              "  }\n",
              "\n",
              "  @keyframes spin {\n",
              "    0% {\n",
              "      border-color: transparent;\n",
              "      border-bottom-color: var(--fill-color);\n",
              "      border-left-color: var(--fill-color);\n",
              "    }\n",
              "    20% {\n",
              "      border-color: transparent;\n",
              "      border-left-color: var(--fill-color);\n",
              "      border-top-color: var(--fill-color);\n",
              "    }\n",
              "    30% {\n",
              "      border-color: transparent;\n",
              "      border-left-color: var(--fill-color);\n",
              "      border-top-color: var(--fill-color);\n",
              "      border-right-color: var(--fill-color);\n",
              "    }\n",
              "    40% {\n",
              "      border-color: transparent;\n",
              "      border-right-color: var(--fill-color);\n",
              "      border-top-color: var(--fill-color);\n",
              "    }\n",
              "    60% {\n",
              "      border-color: transparent;\n",
              "      border-right-color: var(--fill-color);\n",
              "    }\n",
              "    80% {\n",
              "      border-color: transparent;\n",
              "      border-right-color: var(--fill-color);\n",
              "      border-bottom-color: var(--fill-color);\n",
              "    }\n",
              "    90% {\n",
              "      border-color: transparent;\n",
              "      border-bottom-color: var(--fill-color);\n",
              "    }\n",
              "  }\n",
              "</style>\n",
              "\n",
              "  <script>\n",
              "    async function quickchart(key) {\n",
              "      const quickchartButtonEl =\n",
              "        document.querySelector('#' + key + ' button');\n",
              "      quickchartButtonEl.disabled = true;  // To prevent multiple clicks.\n",
              "      quickchartButtonEl.classList.add('colab-df-spinner');\n",
              "      try {\n",
              "        const charts = await google.colab.kernel.invokeFunction(\n",
              "            'suggestCharts', [key], {});\n",
              "      } catch (error) {\n",
              "        console.error('Error during call to suggestCharts:', error);\n",
              "      }\n",
              "      quickchartButtonEl.classList.remove('colab-df-spinner');\n",
              "      quickchartButtonEl.classList.add('colab-df-quickchart-complete');\n",
              "    }\n",
              "    (() => {\n",
              "      let quickchartButtonEl =\n",
              "        document.querySelector('#df-cdab4ed0-4018-421f-9e58-ae40ddf50285 button');\n",
              "      quickchartButtonEl.style.display =\n",
              "        google.colab.kernel.accessAllowed ? 'block' : 'none';\n",
              "    })();\n",
              "  </script>\n",
              "</div>\n",
              "\n",
              "    </div>\n",
              "  </div>\n"
            ],
            "application/vnd.google.colaboratory.intrinsic+json": {
              "type": "dataframe",
              "summary": "{\n  \"name\": \"df[['Text', 'clean_text']]\",\n  \"rows\": 5,\n  \"fields\": [\n    {\n      \"column\": \"Text\",\n      \"properties\": {\n        \"dtype\": \"string\",\n        \"num_unique_values\": 5,\n        \"samples\": [\n          \"U.S. conservative leader optimistic of common ground on healthcare WASHINGTON (Reuters) - Republicans in the U.S. House of Representatives could achieve common ground on a deal to win support for healthcare legislation on Thursday, after President Donald Trump intervened in negotiations, a conservative leader said on Wednesday. \\u201cWe\\u2019re not there yet, but we\\u2019re very optimistic that if we work around the clock between now and Noon tomorrow, that we\\u2019re going to be able to hopefully find some common ground,\\u201d Representative Mark Meadows, chairman of the conservative House Freedom Caucus, told reporters. Meadows\\u2019 group has opposed House Republican healthcare legislation up to now and threatened earlier in the day to block its passage in a Thursday vote.  \",\n          \"Democrats say Trump agrees to work on immigration bill, wall in dispute WASHINGTON (Reuters) - President Donald Trump and Democratic leaders in the U.S. Congress have agreed to work together on legislation to protect \\u201cDreamers,\\u201d the illegal immigrants who were children when they entered the United States, the lawmakers said on Wednesday, although a dispute erupted over exactly what had been agreed. Following a dinner with Trump at the White House, Senate Democratic leader Chuck Schumer and House of Representatives Democratic leader Nancy Pelosi said the \\u201cproductive meeting\\u201d focused on \\u201cDACA,\\u201d a program established by former President Barack Obama. \\u201cWe agreed to enshrine the protections of DACA (Deferred Action for Childhood Arrivals) into law quickly, and to work out a package of border security, excluding the wall, that\\u2019s acceptable to both sides,\\u201d Schumer and Pelosi said in a statement. All year, Democrats have insisted that they will block any legislation that contains funding for a wall along the length of the U.S. border with Mexico, a top Trump campaign goal that many Republicans in Congress also do not support. While White House officials have suggested legislation on DACA could move forward without wall funding, White House spokeswoman Sarah Sanders disputed the characterization that a deal had been reached to leave it out of any legislation focused on the Dreamers. \\u201cWhile DACA and border security were both discussed, excluding the wall was certainly not agreed to,\\u201d she said on Twitter. Throughout his 2016 campaign for president and since taking office in January, Trump has demanded the construction of a wall to keep out illegal immigrants and drugs. He initially said Mexico would pay for the wall but has requested money from the U.S. Congress after the government of Mexico refused to pay. The dinner was the latest effort in a new initiative by Trump to work with opposition party Democrats on major legislation. Following the dinner, a White House official said the president, Schumer and Pelosi discussed tax reform, immigration, border security, infrastructure investments and trade as part of Trump\\u2019s bid to reach out to Democrats. \\u201cThe administration looks forward to continuing these conversations with leadership on both sides of the aisle,\\u201d the official said. Over a dinner of Chinese food, Trump and the Democratic leaders also discussed issues related to U.S.-China trade, according to a congressional aide briefed on the meeting. Schumer and Pelosi also said that they urged Trump to make permanent government subsidy payments under the Affordable Care Act, also known as \\u201cObamacare.\\u201d \\u201cThose discussions will continue,\\u201d the lawmakers said. Trump and most Republicans in Congress have demanded the repeal of Obamacare but have been unable to agree on a replacement for the healthcare program that became law in 2010. Using his executive powers, Trump canceled Obama\\u2019s DACA program in which about 800,000 undocumented young people have escaped the threat of deportation and been able to apply for work permits in the United States. Trump argued that Obama over-stepped his authority in creating the program. But Trump gave Congress six months to come up with a replacement program in the form of legislation to be enacted into law. Democratic Representative Henry Cuellar, who attended a White House meeting with Trump earlier on Wednesday, told reporters the president said he would not insist on wall funding as part of a Dreamers bill, but would pursue it on other, future legislation. Cuellar said Trump urged lawmakers to link a Republican bill to cut legal immigration to the United States with protections for Dreamers. But many Democrats oppose lowering the cap on annual legal immigration. \",\n          \"Trump proposes U.S. tax overhaul, stirs concerns on deficit WASHINGTON (Reuters) - President Donald Trump proposed on Wednesday the biggest U.S. tax overhaul in three decades, calling for tax cuts for most Americans, but prompting criticism that the plan favors business and the rich and could add trillions of dollars to the deficit. The proposal drew a swift, skeptical response from Senator Bob Corker, a leading Republican \\u201cfiscal hawk,\\u201d who vowed not to vote for any federal tax package financed with borrowed money. \\u201cWhat I can tell you is that I\\u2019m not about to vote for any bill that increases our deficit, period,\\u201d Corker, who said on Tuesday he would not seek re-election in 2018, told reporters. Trump said his tax plan was aimed at helping working people, creating jobs and making the tax code simpler and fairer. But it faces an uphill battle in the U.S. Congress with Trump\\u2019s own Republican Party divided over it and Democrats hostile. The plan would lower corporate and small-business income tax rates, reduce the top income tax rate for high-earning American individuals and scrap some popular tax breaks, including one that benefits people in high-tax states dominated by Democrats. Forged during months of talks among Trump\\u2019s aides and top congressional Republicans, the plan contained few details on how to pay for the tax cuts without expanding the budget deficit and adding to the nation\\u2019s $20 trillion national debt. The plan still must be turned into legislation, which was not expected until after Congress makes progress on the fiscal 2018 budget, perhaps in October. It must then be debated by the Republican-led congressional tax-writing committees. Analysts were skeptical that Congress could approve a tax bill this year, but that is what Republicans hope to achieve so they can enter next year\\u2019s congressional election campaigns with at least one legislative achievement to show for 2017. Financial markets rallied on the plan\\u2019s unveiling, an event long anticipated by traders betting that stocks would benefit from both faster economic growth and inflation. At an event in Indianapolis, Trump called the plan the largest tax cut in U.S. history. \\u201cWe want tax reform that is pro-growth, pro-jobs, pro-worker, pro-family and, yes, tax reform that is pro-American,\\u201d he said. The real estate mogul-turned-politician, who promised big tax cuts as a candidate, told reporters he personally would not gain financially from the proposal. \\u201cI think there\\u2019s very little benefit for people of wealth,\\u201d said Trump, who unlike many of his White House predecessors, has refused to make public his own tax returns. Republicans have produced no major legislative successes since Trump took office in January, even though they control the White House and both chambers of Congress. Their top legislative priority, overhauling the U.S. healthcare system, collapsed again in the Senate on Tuesday. A comprehensive rewrite of the U.S. tax code has eluded previous presidents and Congress for decades. The last one was passed in 1986 under Republican President Ronald Reagan. Trump\\u2019s plan falls short of the sweeping, bipartisan package crafted by Reagan and congressional Democrats, analysts said. The White House said that, under the proposal, typical middle-class families would have less income subject to federal tax. Trump said the first $12,000 earned by an individual and the first $24,000 by a married couple would be tax-free. The plan would lower the top individual tax rate, paid by the nation\\u2019s top earners, to 35 percent from 39.6 percent. It would lower the top corporate income tax rate to 20 percent from the current 35 percent. The existing rate is high globally, but many U.S.-based multinationals pay much less than the headline rate because of abundant loopholes and tax breaks. Trump has appealed to Democrats to back the plan, although they were not consulted in drafting it. Republicans hold a thin 52-48 Senate majority and may need some Democratic support to win passage. But Democrats said the plan would expand the federal deficit in order to deliver tax cuts to wealthy Americans rather than the middle-class families that Trump and Republicans say they are trying to help.  \\u201cIf this framework is all about the middle class, then Trump Tower is middle-class housing,\\u201d said Senator Ron Wyden, the top Democrat on the tax law-writing Senate Finance Committee.      Republican Kevin Brady, chairman of the tax-writing House of Representatives Ways and Means Committee, said he expected tax legislation to be passed by the end of this year. The Committee for a Responsible Federal Budget, a Washington-based policy group, estimated on Wednesday the plan contained about $5.8 trillion of total tax cuts over a decade and would have a net cost of $2.2 trillion through 2027. Analysts have warned huge tax cuts would balloon the deficit if economic growth projected by Republicans to offset the costs fails to materialize amid rising interest rates. \\u2018PASS-THROUGH\\u2019 RATE The plan would set a new 25 percent tax rate for \\u201cpass-through\\u201d businesses, which are usually small, private enterprises, such as partnerships and sole proprietorships. They represent about 95 percent of all U.S. businesses. Under current law, the profits of those companies \\u201cpass through\\u201d directly to their owners and are taxed as personal income, often at the top 39.6 percent individual income rate. Cutting that to 25 percent could mean big tax savings for small-business owners, but also be vulnerable to abuse by other individuals and companies, analysts said. Republicans proposed eliminating some tax deductions. They did not target the popular ones for mortgage interest and charitable giving, but called for scrapping the one for state and local tax payments. That could especially hurt people in high-tax states like California and New York. In a step to simplify tax returns, the plan would shrink the current seven tax brackets to three: 12 percent, 25 percent and 35 percent. That would raise the bottom tax rate on low-earning Americans to 12 percent from 10 percent, but analysts said other parts of the plan would still mean a net tax cut. \"\n        ],\n        \"semantic_type\": \"\",\n        \"description\": \"\"\n      }\n    },\n    {\n      \"column\": \"clean_text\",\n      \"properties\": {\n        \"dtype\": \"string\",\n        \"num_unique_values\": 5,\n        \"samples\": [\n          \"u conservative leader optimistic common ground healthcare washington reuters republican u house representative could achieve common ground deal win support healthcare legislation thursday president donald trump intervened negotiation conservative leader said wednesday yet optimistic work around clock noon tomorrow going able hopefully find common ground representative mark meadow chairman conservative house freedom caucus told reporter meadow group opposed house republican healthcare legislation threatened earlier day block passage thursday vote\",\n          \"democrat say trump agrees work immigration bill wall dispute washington reuters president donald trump democratic leader u congress agreed work together legislation protect dreamer illegal immigrant child entered united state lawmaker said wednesday although dispute erupted exactly agreed following dinner trump white house senate democratic leader chuck schumer house representative democratic leader nancy pelosi said productive meeting focused daca program established former president barack obama agreed enshrine protection daca deferred action childhood arrival law quickly work package border security excluding wall thats acceptable side schumer pelosi said statement year democrat insisted block legislation contains funding wall along length u border mexico top trump campaign goal many republican congress also support white house official suggested legislation daca could move forward without wall funding white house spokeswoman sarah sander disputed characterization deal reached leave legislation focused dreamer daca border security discussed excluding wall certainly agreed said twitter throughout campaign president since taking office january trump demanded construction wall keep illegal immigrant drug initially said mexico would pay wall requested money u congress government mexico refused pay dinner latest effort new initiative trump work opposition party democrat major legislation following dinner white house official said president schumer pelosi discussed tax reform immigration border security infrastructure investment trade part trump bid reach democrat administration look forward continuing conversation leadership side aisle official said dinner chinese food trump democratic leader also discussed issue related uschina trade according congressional aide briefed meeting schumer pelosi also said urged trump make permanent government subsidy payment affordable care act also known obamacare discussion continue lawmaker said trump republican congress demanded repeal obamacare unable agree replacement healthcare program became law using executive power trump canceled obamas daca program undocumented young people escaped threat deportation able apply work permit united state trump argued obama overstepped authority creating program trump gave congress six month come replacement program form legislation enacted law democratic representative henry cuellar attended white house meeting trump earlier wednesday told reporter president said would insist wall funding part dreamer bill would pursue future legislation cuellar said trump urged lawmaker link republican bill cut legal immigration united state protection dreamer many democrat oppose lowering cap annual legal immigration\",\n          \"trump proposes u tax overhaul stir concern deficit washington reuters president donald trump proposed wednesday biggest u tax overhaul three decade calling tax cut american prompting criticism plan favor business rich could add trillion dollar deficit proposal drew swift skeptical response senator bob corker leading republican fiscal hawk vowed vote federal tax package financed borrowed money tell im vote bill increase deficit period corker said tuesday would seek reelection told reporter trump said tax plan aimed helping working people creating job making tax code simpler fairer face uphill battle u congress trump republican party divided democrat hostile plan would lower corporate smallbusiness income tax rate reduce top income tax rate highearning american individual scrap popular tax break including one benefit people hightax state dominated democrat forged month talk among trump aide top congressional republican plan contained detail pay tax cut without expanding budget deficit adding nation trillion national debt plan still must turned legislation expected congress make progress fiscal budget perhaps october must debated republicanled congressional taxwriting committee analyst skeptical congress could approve tax bill year republican hope achieve enter next year congressional election campaign least one legislative achievement show financial market rallied plan unveiling event long anticipated trader betting stock would benefit faster economic growth inflation event indianapolis trump called plan largest tax cut u history want tax reform progrowth projobs proworker profamily yes tax reform proamerican said real estate mogulturnedpolitician promised big tax cut candidate told reporter personally would gain financially proposal think there little benefit people wealth said trump unlike many white house predecessor refused make public tax return republican produced major legislative success since trump took office january even though control white house chamber congress top legislative priority overhauling u healthcare system collapsed senate tuesday comprehensive rewrite u tax code eluded previous president congress decade last one passed republican president ronald reagan trump plan fall short sweeping bipartisan package crafted reagan congressional democrat analyst said white house said proposal typical middleclass family would less income subject federal tax trump said first earned individual first married couple would taxfree plan would lower top individual tax rate paid nation top earner percent percent would lower top corporate income tax rate percent current percent existing rate high globally many usbased multinationals pay much less headline rate abundant loophole tax break trump appealed democrat back plan although consulted drafting republican hold thin senate majority may need democratic support win passage democrat said plan would expand federal deficit order deliver tax cut wealthy american rather middleclass family trump republican say trying help framework middle class trump tower middleclass housing said senator ron wyden top democrat tax lawwriting senate finance committee republican kevin brady chairman taxwriting house representative way mean committee said expected tax legislation passed end year committee responsible federal budget washingtonbased policy group estimated wednesday plan contained trillion total tax cut decade would net cost trillion analyst warned huge tax cut would balloon deficit economic growth projected republican offset cost fails materialize amid rising interest rate passthrough rate plan would set new percent tax rate passthrough business usually small private enterprise partnership sole proprietorship represent percent u business current law profit company pas directly owner taxed personal income often top percent individual income rate cutting percent could mean big tax saving smallbusiness owner also vulnerable abuse individual company analyst said republican proposed eliminating tax deduction target popular one mortgage interest charitable giving called scrapping one state local tax payment could especially hurt people hightax state like california new york step simplify tax return plan would shrink current seven tax bracket three percent percent percent would raise bottom tax rate lowearning american percent percent analyst said part plan would still mean net tax cut\"\n        ],\n        \"semantic_type\": \"\",\n        \"description\": \"\"\n      }\n    }\n  ]\n}"
            }
          },
          "metadata": {},
          "execution_count": 10
        }
      ]
    },
    {
      "cell_type": "markdown",
      "source": [
        "###  ✅ Why This is Needed?\n",
        "* Cleans and normalizes text for better model performance.\n",
        "\n",
        "* Reduces noise and standardizes vocabulary (ex: running, runs, ran → run)."
      ],
      "metadata": {
        "id": "pGE14BoLRDNQ"
      }
    },
    {
      "cell_type": "code",
      "source": [],
      "metadata": {
        "id": "U0NEeQswQ_2-"
      },
      "execution_count": null,
      "outputs": []
    },
    {
      "cell_type": "markdown",
      "source": [
        "### Step 3: Feature Extraction using TF-IDF"
      ],
      "metadata": {
        "id": "eCO8L1acRb4f"
      }
    },
    {
      "cell_type": "code",
      "source": [
        "from sklearn.feature_extraction.text import TfidfVectorizer\n",
        "\n",
        "vectorizer = TfidfVectorizer(max_features=5000)\n",
        "X = vectorizer.fit_transform(df['clean_text'])\n"
      ],
      "metadata": {
        "id": "DcotXpxERdtm"
      },
      "execution_count": 11,
      "outputs": []
    },
    {
      "cell_type": "markdown",
      "source": [
        "#### ✅ Why This is Needed?\n",
        "* Converts text to numerical format for machine learning models.\n",
        "\n",
        "* TF-IDF captures word importance across documents."
      ],
      "metadata": {
        "id": "sf-lRfvcRjBg"
      }
    },
    {
      "cell_type": "code",
      "source": [],
      "metadata": {
        "id": "zS50kLHARfR8"
      },
      "execution_count": null,
      "outputs": []
    },
    {
      "cell_type": "markdown",
      "source": [
        "### Step 4: Label Encoding\n"
      ],
      "metadata": {
        "id": "M9ZIjhl2RxWy"
      }
    },
    {
      "cell_type": "code",
      "source": [
        "from sklearn.preprocessing import LabelEncoder\n",
        "\n",
        "le = LabelEncoder()\n",
        "y = le.fit_transform(df['label'])  # 'Fake'=0, 'Real'=1\n"
      ],
      "metadata": {
        "id": "qXflZ4r3RucU"
      },
      "execution_count": 12,
      "outputs": []
    },
    {
      "cell_type": "markdown",
      "source": [
        "#### ✅ Why This is Needed?\n",
        "Converts categorical labels (Fake, Real) to numerical form required by ML models."
      ],
      "metadata": {
        "id": "OUwSNCjtR19j"
      }
    },
    {
      "cell_type": "code",
      "source": [],
      "metadata": {
        "id": "wYtpNrXnR0Hi"
      },
      "execution_count": null,
      "outputs": []
    },
    {
      "cell_type": "markdown",
      "source": [
        "### Step 5: Train-Test Split"
      ],
      "metadata": {
        "id": "yZynO9qpR6G9"
      }
    },
    {
      "cell_type": "code",
      "source": [
        "from sklearn.model_selection import train_test_split\n",
        "\n",
        "X_train, X_test, y_train, y_test = train_test_split(X, y, test_size=0.2, random_state=42)\n"
      ],
      "metadata": {
        "id": "O8tonb2OR7iI"
      },
      "execution_count": 13,
      "outputs": []
    },
    {
      "cell_type": "markdown",
      "source": [
        "#### ✅ Why This is Needed?\n",
        "Splits data to evaluate model performance on unseen data (generalization).\n",
        "\n"
      ],
      "metadata": {
        "id": "4DcN009TR_Bc"
      }
    },
    {
      "cell_type": "code",
      "source": [],
      "metadata": {
        "id": "Jg7wCXkMR9A2"
      },
      "execution_count": null,
      "outputs": []
    },
    {
      "cell_type": "markdown",
      "source": [
        "### Step 6: Model Building with Naive Bayes"
      ],
      "metadata": {
        "id": "ZHqftt9TSElZ"
      }
    },
    {
      "cell_type": "code",
      "source": [
        "from sklearn.naive_bayes import MultinomialNB\n",
        "\n",
        "model = MultinomialNB()\n",
        "model.fit(X_train, y_train)\n"
      ],
      "metadata": {
        "colab": {
          "base_uri": "https://localhost:8080/",
          "height": 81
        },
        "id": "0mBxWyEvSDtY",
        "outputId": "84ecadc9-02d5-4230-cad6-762a81b5ba63"
      },
      "execution_count": 14,
      "outputs": [
        {
          "output_type": "execute_result",
          "data": {
            "text/plain": [
              "MultinomialNB()"
            ],
            "text/html": [
              "<style>#sk-container-id-1 {\n",
              "  /* Definition of color scheme common for light and dark mode */\n",
              "  --sklearn-color-text: #000;\n",
              "  --sklearn-color-text-muted: #666;\n",
              "  --sklearn-color-line: gray;\n",
              "  /* Definition of color scheme for unfitted estimators */\n",
              "  --sklearn-color-unfitted-level-0: #fff5e6;\n",
              "  --sklearn-color-unfitted-level-1: #f6e4d2;\n",
              "  --sklearn-color-unfitted-level-2: #ffe0b3;\n",
              "  --sklearn-color-unfitted-level-3: chocolate;\n",
              "  /* Definition of color scheme for fitted estimators */\n",
              "  --sklearn-color-fitted-level-0: #f0f8ff;\n",
              "  --sklearn-color-fitted-level-1: #d4ebff;\n",
              "  --sklearn-color-fitted-level-2: #b3dbfd;\n",
              "  --sklearn-color-fitted-level-3: cornflowerblue;\n",
              "\n",
              "  /* Specific color for light theme */\n",
              "  --sklearn-color-text-on-default-background: var(--sg-text-color, var(--theme-code-foreground, var(--jp-content-font-color1, black)));\n",
              "  --sklearn-color-background: var(--sg-background-color, var(--theme-background, var(--jp-layout-color0, white)));\n",
              "  --sklearn-color-border-box: var(--sg-text-color, var(--theme-code-foreground, var(--jp-content-font-color1, black)));\n",
              "  --sklearn-color-icon: #696969;\n",
              "\n",
              "  @media (prefers-color-scheme: dark) {\n",
              "    /* Redefinition of color scheme for dark theme */\n",
              "    --sklearn-color-text-on-default-background: var(--sg-text-color, var(--theme-code-foreground, var(--jp-content-font-color1, white)));\n",
              "    --sklearn-color-background: var(--sg-background-color, var(--theme-background, var(--jp-layout-color0, #111)));\n",
              "    --sklearn-color-border-box: var(--sg-text-color, var(--theme-code-foreground, var(--jp-content-font-color1, white)));\n",
              "    --sklearn-color-icon: #878787;\n",
              "  }\n",
              "}\n",
              "\n",
              "#sk-container-id-1 {\n",
              "  color: var(--sklearn-color-text);\n",
              "}\n",
              "\n",
              "#sk-container-id-1 pre {\n",
              "  padding: 0;\n",
              "}\n",
              "\n",
              "#sk-container-id-1 input.sk-hidden--visually {\n",
              "  border: 0;\n",
              "  clip: rect(1px 1px 1px 1px);\n",
              "  clip: rect(1px, 1px, 1px, 1px);\n",
              "  height: 1px;\n",
              "  margin: -1px;\n",
              "  overflow: hidden;\n",
              "  padding: 0;\n",
              "  position: absolute;\n",
              "  width: 1px;\n",
              "}\n",
              "\n",
              "#sk-container-id-1 div.sk-dashed-wrapped {\n",
              "  border: 1px dashed var(--sklearn-color-line);\n",
              "  margin: 0 0.4em 0.5em 0.4em;\n",
              "  box-sizing: border-box;\n",
              "  padding-bottom: 0.4em;\n",
              "  background-color: var(--sklearn-color-background);\n",
              "}\n",
              "\n",
              "#sk-container-id-1 div.sk-container {\n",
              "  /* jupyter's `normalize.less` sets `[hidden] { display: none; }`\n",
              "     but bootstrap.min.css set `[hidden] { display: none !important; }`\n",
              "     so we also need the `!important` here to be able to override the\n",
              "     default hidden behavior on the sphinx rendered scikit-learn.org.\n",
              "     See: https://github.com/scikit-learn/scikit-learn/issues/21755 */\n",
              "  display: inline-block !important;\n",
              "  position: relative;\n",
              "}\n",
              "\n",
              "#sk-container-id-1 div.sk-text-repr-fallback {\n",
              "  display: none;\n",
              "}\n",
              "\n",
              "div.sk-parallel-item,\n",
              "div.sk-serial,\n",
              "div.sk-item {\n",
              "  /* draw centered vertical line to link estimators */\n",
              "  background-image: linear-gradient(var(--sklearn-color-text-on-default-background), var(--sklearn-color-text-on-default-background));\n",
              "  background-size: 2px 100%;\n",
              "  background-repeat: no-repeat;\n",
              "  background-position: center center;\n",
              "}\n",
              "\n",
              "/* Parallel-specific style estimator block */\n",
              "\n",
              "#sk-container-id-1 div.sk-parallel-item::after {\n",
              "  content: \"\";\n",
              "  width: 100%;\n",
              "  border-bottom: 2px solid var(--sklearn-color-text-on-default-background);\n",
              "  flex-grow: 1;\n",
              "}\n",
              "\n",
              "#sk-container-id-1 div.sk-parallel {\n",
              "  display: flex;\n",
              "  align-items: stretch;\n",
              "  justify-content: center;\n",
              "  background-color: var(--sklearn-color-background);\n",
              "  position: relative;\n",
              "}\n",
              "\n",
              "#sk-container-id-1 div.sk-parallel-item {\n",
              "  display: flex;\n",
              "  flex-direction: column;\n",
              "}\n",
              "\n",
              "#sk-container-id-1 div.sk-parallel-item:first-child::after {\n",
              "  align-self: flex-end;\n",
              "  width: 50%;\n",
              "}\n",
              "\n",
              "#sk-container-id-1 div.sk-parallel-item:last-child::after {\n",
              "  align-self: flex-start;\n",
              "  width: 50%;\n",
              "}\n",
              "\n",
              "#sk-container-id-1 div.sk-parallel-item:only-child::after {\n",
              "  width: 0;\n",
              "}\n",
              "\n",
              "/* Serial-specific style estimator block */\n",
              "\n",
              "#sk-container-id-1 div.sk-serial {\n",
              "  display: flex;\n",
              "  flex-direction: column;\n",
              "  align-items: center;\n",
              "  background-color: var(--sklearn-color-background);\n",
              "  padding-right: 1em;\n",
              "  padding-left: 1em;\n",
              "}\n",
              "\n",
              "\n",
              "/* Toggleable style: style used for estimator/Pipeline/ColumnTransformer box that is\n",
              "clickable and can be expanded/collapsed.\n",
              "- Pipeline and ColumnTransformer use this feature and define the default style\n",
              "- Estimators will overwrite some part of the style using the `sk-estimator` class\n",
              "*/\n",
              "\n",
              "/* Pipeline and ColumnTransformer style (default) */\n",
              "\n",
              "#sk-container-id-1 div.sk-toggleable {\n",
              "  /* Default theme specific background. It is overwritten whether we have a\n",
              "  specific estimator or a Pipeline/ColumnTransformer */\n",
              "  background-color: var(--sklearn-color-background);\n",
              "}\n",
              "\n",
              "/* Toggleable label */\n",
              "#sk-container-id-1 label.sk-toggleable__label {\n",
              "  cursor: pointer;\n",
              "  display: flex;\n",
              "  width: 100%;\n",
              "  margin-bottom: 0;\n",
              "  padding: 0.5em;\n",
              "  box-sizing: border-box;\n",
              "  text-align: center;\n",
              "  align-items: start;\n",
              "  justify-content: space-between;\n",
              "  gap: 0.5em;\n",
              "}\n",
              "\n",
              "#sk-container-id-1 label.sk-toggleable__label .caption {\n",
              "  font-size: 0.6rem;\n",
              "  font-weight: lighter;\n",
              "  color: var(--sklearn-color-text-muted);\n",
              "}\n",
              "\n",
              "#sk-container-id-1 label.sk-toggleable__label-arrow:before {\n",
              "  /* Arrow on the left of the label */\n",
              "  content: \"▸\";\n",
              "  float: left;\n",
              "  margin-right: 0.25em;\n",
              "  color: var(--sklearn-color-icon);\n",
              "}\n",
              "\n",
              "#sk-container-id-1 label.sk-toggleable__label-arrow:hover:before {\n",
              "  color: var(--sklearn-color-text);\n",
              "}\n",
              "\n",
              "/* Toggleable content - dropdown */\n",
              "\n",
              "#sk-container-id-1 div.sk-toggleable__content {\n",
              "  max-height: 0;\n",
              "  max-width: 0;\n",
              "  overflow: hidden;\n",
              "  text-align: left;\n",
              "  /* unfitted */\n",
              "  background-color: var(--sklearn-color-unfitted-level-0);\n",
              "}\n",
              "\n",
              "#sk-container-id-1 div.sk-toggleable__content.fitted {\n",
              "  /* fitted */\n",
              "  background-color: var(--sklearn-color-fitted-level-0);\n",
              "}\n",
              "\n",
              "#sk-container-id-1 div.sk-toggleable__content pre {\n",
              "  margin: 0.2em;\n",
              "  border-radius: 0.25em;\n",
              "  color: var(--sklearn-color-text);\n",
              "  /* unfitted */\n",
              "  background-color: var(--sklearn-color-unfitted-level-0);\n",
              "}\n",
              "\n",
              "#sk-container-id-1 div.sk-toggleable__content.fitted pre {\n",
              "  /* unfitted */\n",
              "  background-color: var(--sklearn-color-fitted-level-0);\n",
              "}\n",
              "\n",
              "#sk-container-id-1 input.sk-toggleable__control:checked~div.sk-toggleable__content {\n",
              "  /* Expand drop-down */\n",
              "  max-height: 200px;\n",
              "  max-width: 100%;\n",
              "  overflow: auto;\n",
              "}\n",
              "\n",
              "#sk-container-id-1 input.sk-toggleable__control:checked~label.sk-toggleable__label-arrow:before {\n",
              "  content: \"▾\";\n",
              "}\n",
              "\n",
              "/* Pipeline/ColumnTransformer-specific style */\n",
              "\n",
              "#sk-container-id-1 div.sk-label input.sk-toggleable__control:checked~label.sk-toggleable__label {\n",
              "  color: var(--sklearn-color-text);\n",
              "  background-color: var(--sklearn-color-unfitted-level-2);\n",
              "}\n",
              "\n",
              "#sk-container-id-1 div.sk-label.fitted input.sk-toggleable__control:checked~label.sk-toggleable__label {\n",
              "  background-color: var(--sklearn-color-fitted-level-2);\n",
              "}\n",
              "\n",
              "/* Estimator-specific style */\n",
              "\n",
              "/* Colorize estimator box */\n",
              "#sk-container-id-1 div.sk-estimator input.sk-toggleable__control:checked~label.sk-toggleable__label {\n",
              "  /* unfitted */\n",
              "  background-color: var(--sklearn-color-unfitted-level-2);\n",
              "}\n",
              "\n",
              "#sk-container-id-1 div.sk-estimator.fitted input.sk-toggleable__control:checked~label.sk-toggleable__label {\n",
              "  /* fitted */\n",
              "  background-color: var(--sklearn-color-fitted-level-2);\n",
              "}\n",
              "\n",
              "#sk-container-id-1 div.sk-label label.sk-toggleable__label,\n",
              "#sk-container-id-1 div.sk-label label {\n",
              "  /* The background is the default theme color */\n",
              "  color: var(--sklearn-color-text-on-default-background);\n",
              "}\n",
              "\n",
              "/* On hover, darken the color of the background */\n",
              "#sk-container-id-1 div.sk-label:hover label.sk-toggleable__label {\n",
              "  color: var(--sklearn-color-text);\n",
              "  background-color: var(--sklearn-color-unfitted-level-2);\n",
              "}\n",
              "\n",
              "/* Label box, darken color on hover, fitted */\n",
              "#sk-container-id-1 div.sk-label.fitted:hover label.sk-toggleable__label.fitted {\n",
              "  color: var(--sklearn-color-text);\n",
              "  background-color: var(--sklearn-color-fitted-level-2);\n",
              "}\n",
              "\n",
              "/* Estimator label */\n",
              "\n",
              "#sk-container-id-1 div.sk-label label {\n",
              "  font-family: monospace;\n",
              "  font-weight: bold;\n",
              "  display: inline-block;\n",
              "  line-height: 1.2em;\n",
              "}\n",
              "\n",
              "#sk-container-id-1 div.sk-label-container {\n",
              "  text-align: center;\n",
              "}\n",
              "\n",
              "/* Estimator-specific */\n",
              "#sk-container-id-1 div.sk-estimator {\n",
              "  font-family: monospace;\n",
              "  border: 1px dotted var(--sklearn-color-border-box);\n",
              "  border-radius: 0.25em;\n",
              "  box-sizing: border-box;\n",
              "  margin-bottom: 0.5em;\n",
              "  /* unfitted */\n",
              "  background-color: var(--sklearn-color-unfitted-level-0);\n",
              "}\n",
              "\n",
              "#sk-container-id-1 div.sk-estimator.fitted {\n",
              "  /* fitted */\n",
              "  background-color: var(--sklearn-color-fitted-level-0);\n",
              "}\n",
              "\n",
              "/* on hover */\n",
              "#sk-container-id-1 div.sk-estimator:hover {\n",
              "  /* unfitted */\n",
              "  background-color: var(--sklearn-color-unfitted-level-2);\n",
              "}\n",
              "\n",
              "#sk-container-id-1 div.sk-estimator.fitted:hover {\n",
              "  /* fitted */\n",
              "  background-color: var(--sklearn-color-fitted-level-2);\n",
              "}\n",
              "\n",
              "/* Specification for estimator info (e.g. \"i\" and \"?\") */\n",
              "\n",
              "/* Common style for \"i\" and \"?\" */\n",
              "\n",
              ".sk-estimator-doc-link,\n",
              "a:link.sk-estimator-doc-link,\n",
              "a:visited.sk-estimator-doc-link {\n",
              "  float: right;\n",
              "  font-size: smaller;\n",
              "  line-height: 1em;\n",
              "  font-family: monospace;\n",
              "  background-color: var(--sklearn-color-background);\n",
              "  border-radius: 1em;\n",
              "  height: 1em;\n",
              "  width: 1em;\n",
              "  text-decoration: none !important;\n",
              "  margin-left: 0.5em;\n",
              "  text-align: center;\n",
              "  /* unfitted */\n",
              "  border: var(--sklearn-color-unfitted-level-1) 1pt solid;\n",
              "  color: var(--sklearn-color-unfitted-level-1);\n",
              "}\n",
              "\n",
              ".sk-estimator-doc-link.fitted,\n",
              "a:link.sk-estimator-doc-link.fitted,\n",
              "a:visited.sk-estimator-doc-link.fitted {\n",
              "  /* fitted */\n",
              "  border: var(--sklearn-color-fitted-level-1) 1pt solid;\n",
              "  color: var(--sklearn-color-fitted-level-1);\n",
              "}\n",
              "\n",
              "/* On hover */\n",
              "div.sk-estimator:hover .sk-estimator-doc-link:hover,\n",
              ".sk-estimator-doc-link:hover,\n",
              "div.sk-label-container:hover .sk-estimator-doc-link:hover,\n",
              ".sk-estimator-doc-link:hover {\n",
              "  /* unfitted */\n",
              "  background-color: var(--sklearn-color-unfitted-level-3);\n",
              "  color: var(--sklearn-color-background);\n",
              "  text-decoration: none;\n",
              "}\n",
              "\n",
              "div.sk-estimator.fitted:hover .sk-estimator-doc-link.fitted:hover,\n",
              ".sk-estimator-doc-link.fitted:hover,\n",
              "div.sk-label-container:hover .sk-estimator-doc-link.fitted:hover,\n",
              ".sk-estimator-doc-link.fitted:hover {\n",
              "  /* fitted */\n",
              "  background-color: var(--sklearn-color-fitted-level-3);\n",
              "  color: var(--sklearn-color-background);\n",
              "  text-decoration: none;\n",
              "}\n",
              "\n",
              "/* Span, style for the box shown on hovering the info icon */\n",
              ".sk-estimator-doc-link span {\n",
              "  display: none;\n",
              "  z-index: 9999;\n",
              "  position: relative;\n",
              "  font-weight: normal;\n",
              "  right: .2ex;\n",
              "  padding: .5ex;\n",
              "  margin: .5ex;\n",
              "  width: min-content;\n",
              "  min-width: 20ex;\n",
              "  max-width: 50ex;\n",
              "  color: var(--sklearn-color-text);\n",
              "  box-shadow: 2pt 2pt 4pt #999;\n",
              "  /* unfitted */\n",
              "  background: var(--sklearn-color-unfitted-level-0);\n",
              "  border: .5pt solid var(--sklearn-color-unfitted-level-3);\n",
              "}\n",
              "\n",
              ".sk-estimator-doc-link.fitted span {\n",
              "  /* fitted */\n",
              "  background: var(--sklearn-color-fitted-level-0);\n",
              "  border: var(--sklearn-color-fitted-level-3);\n",
              "}\n",
              "\n",
              ".sk-estimator-doc-link:hover span {\n",
              "  display: block;\n",
              "}\n",
              "\n",
              "/* \"?\"-specific style due to the `<a>` HTML tag */\n",
              "\n",
              "#sk-container-id-1 a.estimator_doc_link {\n",
              "  float: right;\n",
              "  font-size: 1rem;\n",
              "  line-height: 1em;\n",
              "  font-family: monospace;\n",
              "  background-color: var(--sklearn-color-background);\n",
              "  border-radius: 1rem;\n",
              "  height: 1rem;\n",
              "  width: 1rem;\n",
              "  text-decoration: none;\n",
              "  /* unfitted */\n",
              "  color: var(--sklearn-color-unfitted-level-1);\n",
              "  border: var(--sklearn-color-unfitted-level-1) 1pt solid;\n",
              "}\n",
              "\n",
              "#sk-container-id-1 a.estimator_doc_link.fitted {\n",
              "  /* fitted */\n",
              "  border: var(--sklearn-color-fitted-level-1) 1pt solid;\n",
              "  color: var(--sklearn-color-fitted-level-1);\n",
              "}\n",
              "\n",
              "/* On hover */\n",
              "#sk-container-id-1 a.estimator_doc_link:hover {\n",
              "  /* unfitted */\n",
              "  background-color: var(--sklearn-color-unfitted-level-3);\n",
              "  color: var(--sklearn-color-background);\n",
              "  text-decoration: none;\n",
              "}\n",
              "\n",
              "#sk-container-id-1 a.estimator_doc_link.fitted:hover {\n",
              "  /* fitted */\n",
              "  background-color: var(--sklearn-color-fitted-level-3);\n",
              "}\n",
              "</style><div id=\"sk-container-id-1\" class=\"sk-top-container\"><div class=\"sk-text-repr-fallback\"><pre>MultinomialNB()</pre><b>In a Jupyter environment, please rerun this cell to show the HTML representation or trust the notebook. <br />On GitHub, the HTML representation is unable to render, please try loading this page with nbviewer.org.</b></div><div class=\"sk-container\" hidden><div class=\"sk-item\"><div class=\"sk-estimator fitted sk-toggleable\"><input class=\"sk-toggleable__control sk-hidden--visually\" id=\"sk-estimator-id-1\" type=\"checkbox\" checked><label for=\"sk-estimator-id-1\" class=\"sk-toggleable__label fitted sk-toggleable__label-arrow\"><div><div>MultinomialNB</div></div><div><a class=\"sk-estimator-doc-link fitted\" rel=\"noreferrer\" target=\"_blank\" href=\"https://scikit-learn.org/1.6/modules/generated/sklearn.naive_bayes.MultinomialNB.html\">?<span>Documentation for MultinomialNB</span></a><span class=\"sk-estimator-doc-link fitted\">i<span>Fitted</span></span></div></label><div class=\"sk-toggleable__content fitted\"><pre>MultinomialNB()</pre></div> </div></div></div></div>"
            ]
          },
          "metadata": {},
          "execution_count": 14
        }
      ]
    },
    {
      "cell_type": "code",
      "source": [],
      "metadata": {
        "id": "kCpzrxjcfNui"
      },
      "execution_count": null,
      "outputs": []
    },
    {
      "cell_type": "markdown",
      "source": [
        "#### Extract the top keywords (features) that have the most influence on predictions for each class (Fake or Real)."
      ],
      "metadata": {
        "id": "v9WQFF-VfYtc"
      }
    },
    {
      "cell_type": "code",
      "source": [
        "import numpy as np\n",
        "\n",
        "# Get feature names (words)\n",
        "feature_names = vectorizer.get_feature_names_out()\n",
        "\n",
        "# Get log probabilities for each class\n",
        "class_labels = model.classes_  # [0 = Fake, 1 = Real]\n",
        "log_probs = model.feature_log_prob_\n",
        "\n",
        "# Top keywords for Fake News\n",
        "top_n = 20\n",
        "top_fake_indices = np.argsort(log_probs[0])[-top_n:]\n",
        "top_fake_keywords = feature_names[top_fake_indices]\n",
        "\n",
        "# Top keywords for Real News\n",
        "top_real_indices = np.argsort(log_probs[1])[-top_n:]\n",
        "top_real_keywords = feature_names[top_real_indices]\n",
        "\n",
        "print(\"🛑 Top 20 Keywords for FAKE News:\")\n",
        "print(top_fake_keywords)\n",
        "\n",
        "print(\"\\n✅ Top 20 Keywords for REAL News:\")\n",
        "print(top_real_keywords)\n"
      ],
      "metadata": {
        "colab": {
          "base_uri": "https://localhost:8080/"
        },
        "id": "scPdJuf1fNqE",
        "outputId": "e90e6452-f5ae-4764-d91e-432b385ae586"
      },
      "execution_count": 19,
      "outputs": [
        {
          "output_type": "stream",
          "name": "stdout",
          "text": [
            "🛑 Top 20 Keywords for FAKE News:\n",
            "['get' 'woman' 'said' 'know' 'time' 'white' 'would' 'clinton'\n",
            " 'realdonaldtrump' 'even' 'republican' 'obama' 'via' 'president' 'like'\n",
            " 'one' 'donald' 'people' 'image' 'trump']\n",
            "\n",
            "✅ Top 20 Keywords for REAL News:\n",
            "['united' 'administration' 'democrat' 'senator' 'official' 'committee'\n",
            " 'russia' 'white' 'washington' 'bill' 'would' 'reuters' 'president'\n",
            " 'state' 'senate' 'republican' 'house' 'tax' 'trump' 'said']\n"
          ]
        }
      ]
    },
    {
      "cell_type": "code",
      "source": [],
      "metadata": {
        "id": "WyCJnZm5fS-m"
      },
      "execution_count": null,
      "outputs": []
    },
    {
      "cell_type": "markdown",
      "source": [
        "#### ✅ Why This is Needed?\n",
        "Naive Bayes is effective for text classification due to the bag-of-words assumption."
      ],
      "metadata": {
        "id": "p5J22EgNSJ0e"
      }
    },
    {
      "cell_type": "code",
      "source": [],
      "metadata": {
        "id": "kLjBPRAESHP6"
      },
      "execution_count": null,
      "outputs": []
    },
    {
      "cell_type": "markdown",
      "source": [
        "###  Step 7: Model Evaluation"
      ],
      "metadata": {
        "id": "UwsebNCeSPGW"
      }
    },
    {
      "cell_type": "code",
      "source": [
        "from sklearn.metrics import classification_report, confusion_matrix, accuracy_score\n",
        "\n",
        "y_pred = model.predict(X_test)\n",
        "\n",
        "print(\"Accuracy:\", accuracy_score(y_test, y_pred))\n",
        "print(\"Confusion Matrix:\\n\", confusion_matrix(y_test, y_pred))\n",
        "print(\"Classification Report:\\n\", classification_report(y_test, y_pred))\n"
      ],
      "metadata": {
        "colab": {
          "base_uri": "https://localhost:8080/"
        },
        "id": "3fsHnKb9SQC6",
        "outputId": "de8d56b6-0e08-4c29-c3a8-df897d9a3900"
      },
      "execution_count": 15,
      "outputs": [
        {
          "output_type": "stream",
          "name": "stdout",
          "text": [
            "Accuracy: 0.9641414141414142\n",
            "Confusion Matrix:\n",
            " [[931  42]\n",
            " [ 29 978]]\n",
            "Classification Report:\n",
            "               precision    recall  f1-score   support\n",
            "\n",
            "           0       0.97      0.96      0.96       973\n",
            "           1       0.96      0.97      0.96      1007\n",
            "\n",
            "    accuracy                           0.96      1980\n",
            "   macro avg       0.96      0.96      0.96      1980\n",
            "weighted avg       0.96      0.96      0.96      1980\n",
            "\n"
          ]
        }
      ]
    },
    {
      "cell_type": "markdown",
      "source": [
        "#### ✅ Why This is Needed?\n",
        "* Measures how well the model performs.\n",
        "\n",
        "* Confirms how well it distinguishes between Fake and Real news.\n",
        "\n",
        ""
      ],
      "metadata": {
        "id": "Iq3YHXQQSVDh"
      }
    },
    {
      "cell_type": "code",
      "source": [],
      "metadata": {
        "id": "cxDrnpxRSRSL"
      },
      "execution_count": null,
      "outputs": []
    },
    {
      "cell_type": "markdown",
      "source": [
        "###   Step: Save Model for Deployment"
      ],
      "metadata": {
        "id": "rG7YrykGScHs"
      }
    },
    {
      "cell_type": "code",
      "source": [
        "import joblib\n",
        "\n",
        "joblib.dump(model, 'fake_news_model.pkl')\n",
        "joblib.dump(vectorizer, 'tfidf_vectorizer.pkl')\n"
      ],
      "metadata": {
        "colab": {
          "base_uri": "https://localhost:8080/"
        },
        "id": "0VS0MT0gSZ9g",
        "outputId": "94c8202c-87b8-4f8f-f31a-f689977764a1"
      },
      "execution_count": 16,
      "outputs": [
        {
          "output_type": "execute_result",
          "data": {
            "text/plain": [
              "['tfidf_vectorizer.pkl']"
            ]
          },
          "metadata": {},
          "execution_count": 16
        }
      ]
    },
    {
      "cell_type": "code",
      "source": [],
      "metadata": {
        "id": "FyF_k8GETOO5"
      },
      "execution_count": null,
      "outputs": []
    },
    {
      "cell_type": "code",
      "source": [
        "\n",
        "# 📝 Input from user\n",
        "user_input = input(\"Enter a news headline or article: \")\n",
        "\n",
        "# Preprocess & predict\n",
        "processed_input = preprocess(user_input)\n",
        "vectorized_input = vectorizer.transform([processed_input])\n",
        "prediction = model.predict(vectorized_input)\n",
        "\n",
        "# Output\n",
        "print(\"Prediction:\", \"Real News 📰\" if prediction[0] == 1 else \"Fake News 🚨\")"
      ],
      "metadata": {
        "colab": {
          "base_uri": "https://localhost:8080/"
        },
        "id": "90hz5dr1TOLD",
        "outputId": "1a5991f1-8736-4664-d8f5-f0be4112d2d1"
      },
      "execution_count": 18,
      "outputs": [
        {
          "output_type": "stream",
          "name": "stdout",
          "text": [
            "Enter a news headline or article: \"Hillary Clinton Adopts Alien Baby In Shocking Secret Ceremony\"\n",
            "Prediction: Fake News 🚨\n"
          ]
        }
      ]
    },
    {
      "cell_type": "code",
      "source": [],
      "metadata": {
        "id": "e2A8wD1GTYgH"
      },
      "execution_count": null,
      "outputs": []
    }
  ]
}